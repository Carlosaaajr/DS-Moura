{
 "cells": [
  {
   "cell_type": "code",
   "execution_count": null,
   "metadata": {
    "colab": {
     "base_uri": "https://localhost:8080/"
    },
    "executionInfo": {
     "elapsed": 1191,
     "status": "ok",
     "timestamp": 1725449038991,
     "user": {
      "displayName": "Dênis Leite",
      "userId": "15614298836218650389"
     },
     "user_tz": 180
    },
    "id": "SZUhEIJxkHvo",
    "outputId": "d10603b3-7161-49ef-8776-325e3bf9b8e2"
   },
   "outputs": [],
   "source": [
    "#!python -m venv myenv\n",
    "#!source myenv/bin/activate"
   ]
  },
  {
   "cell_type": "code",
   "execution_count": null,
   "metadata": {},
   "outputs": [],
   "source": [
    "import pandas as pd\n",
    "import matplotlib.pyplot as plt\n",
    "import seaborn as sns\n",
    "from scipy import stats\n",
    "from sklearn.preprocessing import minmax_scale"
   ]
  },
  {
   "cell_type": "code",
   "execution_count": null,
   "metadata": {
    "colab": {
     "base_uri": "https://localhost:8080/",
     "height": 424
    },
    "executionInfo": {
     "elapsed": 1641,
     "status": "ok",
     "timestamp": 1725450393814,
     "user": {
      "displayName": "Dênis Leite",
      "userId": "15614298836218650389"
     },
     "user_tz": 180
    },
    "id": "YHsf0Z9HdS3f",
    "outputId": "69f374ad-9496-4c5a-c9a3-c122766161b5"
   },
   "outputs": [],
   "source": [
    "# prompt: Read sheet Consolidado from this spreadsheet: /content/drive/Shareddrives/Moura_TAD/Moura x UPE Compartilhamento/Estudo Engenharia de Processos/GM60AD - Tensões Elemento invertido.xlsm\n",
    "\n",
    "#df = pd.read_excel('GM60AD - Tensões Elemento invertido.xlsm', sheet_name='Consolidado')\n",
    "df_full = pd.read_csv(\"C:/Users/carlo/OneDrive/GitHub/DS-Moura/UN10_LIA02_TAD02_database_completa.csv\")\n",
    "df_corrente = pd.read_csv(\"C:/Users/carlo/OneDrive/GitHub/DS-Moura/df_corrente_maio_2024.csv\")\n",
    "df_tensao = pd.read_csv(\"C:/Users/carlo/OneDrive/GitHub/DS-Moura/df_tensao_maio_2024.csv\")\n",
    "df_condutancia = pd.read_csv(\"C:/Users/carlo/OneDrive/GitHub/DS-Moura/df_admitancia_maio_2024.csv\")\n",
    "df_full = df_full.drop(columns='Unnamed: 0')\n",
    "df_corrente = df_corrente.drop(columns='Unnamed: 0')\n",
    "df_tensao = df_tensao.drop(columns='Unnamed: 0')\n",
    "df_condutancia = df_condutancia.drop(columns='Unnamed: 0')\n",
    "df_full['condutancia'] = df_full.corrente/df_full.tensao"
   ]
  },
  {
   "cell_type": "code",
   "execution_count": null,
   "metadata": {},
   "outputs": [],
   "source": [
    "# Normalize voltage and current and calculate % of initial voltage\n",
    "df_full['NormV'] = minmax_scale(df_full['tensao'],axis=0)"
   ]
  },
  {
   "cell_type": "code",
   "execution_count": null,
   "metadata": {},
   "outputs": [],
   "source": [
    "df_full['NormC'] = minmax_scale(df_full['corrente'],axis=0)"
   ]
  },
  {
   "cell_type": "code",
   "execution_count": null,
   "metadata": {},
   "outputs": [],
   "source": [
    "df_full['%_Vi'] = df_full['tensao']/df_full['tensao'].max()"
   ]
  },
  {
   "cell_type": "code",
   "execution_count": null,
   "metadata": {},
   "outputs": [],
   "source": [
    "# removing the last 50 test value of the dataframe\n",
    "df_full = df_full[ df_full['sequencia'] <= 250 ]\n",
    "df_corrente = df_corrente.drop(columns=[str(i) for i in range(251, 301)])\n",
    "df_tensao = df_tensao.drop(columns=[str(i) for i in range(251, 301)])\n",
    "df_condutancia = df_condutancia.drop(columns=[str(i) for i in range(251, 301)])"
   ]
  },
  {
   "cell_type": "code",
   "execution_count": null,
   "metadata": {},
   "outputs": [],
   "source": [
    "#create a new df for automl and normalizing them\n",
    "df_tensaoin = df_tensao.copy()\n",
    "df_correntein = df_corrente.copy()\n",
    "df_condutanciain = df_condutancia.copy()\n",
    "\n",
    "df_tensaoin.iloc[:,:251] = (df_tensao.iloc[:,:251]-df_full['tensao'].min())/(df_full['tensao'].max()-df_full['tensao'].min())\n",
    "df_correntein.iloc[:,:251] = (df_corrente.iloc[:,:251]-df_full['corrente'].min())/(df_full['corrente'].max()-df_full['corrente'].min())\n",
    "#df_condutanciain.iloc[:,5:306] = minmax_scale(df_condutancia.iloc[:,5:306],axis=0)"
   ]
  },
  {
   "cell_type": "code",
   "execution_count": null,
   "metadata": {},
   "outputs": [],
   "source": [
    "class_mapping = { 0:'Erro desconhecido',\n",
    "                 1:'Aprovado',\n",
    "                 2:'Falha polaridade',\n",
    "                 3:'Falha tensão CA baixa',\n",
    "                 4:'Falha tensão CA alta',\n",
    "                 5:'Falha tensão CF baixa',\n",
    "                 6:'Falha tensão CF alta',\n",
    "                 7:'Falha diferencial tensão',\n",
    "                 8:'Falha delta corrente mínima',\n",
    "                 9:'Falha delta corrente máxima'\n",
    "}\n",
    "\n",
    "# Create the 'class' column\n",
    "df_full['class'] = df_full['valor'].map(class_mapping)\n",
    "df_corrente['class'] = df_corrente['valor'].map(class_mapping)\n",
    "df_correntein['class'] = df_corrente['valor'].map(class_mapping)\n",
    "df_tensao['class'] = df_tensao['valor'].map(class_mapping)\n",
    "df_tensaoin['class'] = df_tensaoin['valor'].map(class_mapping)"
   ]
  },
  {
   "cell_type": "code",
   "execution_count": null,
   "metadata": {},
   "outputs": [],
   "source": [
    "df_full.describe()"
   ]
  },
  {
   "cell_type": "code",
   "execution_count": null,
   "metadata": {
    "colab": {
     "base_uri": "https://localhost:8080/",
     "height": 503
    },
    "executionInfo": {
     "elapsed": 734,
     "status": "ok",
     "timestamp": 1725450395763,
     "user": {
      "displayName": "Dênis Leite",
      "userId": "15614298836218650389"
     },
     "user_tz": 180
    },
    "id": "W6r6ZiuBedKO",
    "outputId": "c15850a8-4225-4661-83f7-65b897946ac1"
   },
   "outputs": [],
   "source": [
    "# @title Testing Time vs Voltage\n",
    "#df.plot(kind='scatter', x='Testing Time', y='Voltage', s=32, alpha=.8)\n",
    "df_full.plot(kind='scatter', x='sequencia', y='tensao', s=32, alpha=.8)\n",
    "plt.gca().spines[['top', 'right',]].set_visible(False)"
   ]
  },
  {
   "cell_type": "code",
   "execution_count": null,
   "metadata": {},
   "outputs": [],
   "source": [
    "# @title Testing Time vs Voltage\n",
    "#df.plot(kind='scatter', x='Testing Time', y='Voltage', s=32, alpha=.8)\n",
    "df_full.plot(kind='scatter', x='sequencia', y='condutancia', s=32, alpha=.8)\n",
    "plt.gca().spines[['top', 'right',]].set_visible(False)"
   ]
  },
  {
   "cell_type": "code",
   "execution_count": null,
   "metadata": {},
   "outputs": [],
   "source": [
    "# prompt: Using df, plot the distributions of Voltage, and StdV, for each Sample Group\n",
    "\n",
    "# Plot the distributions of Voltage for each Sample Group\n",
    "plt.figure(figsize=(10, 6))\n",
    "#sns.boxplot(x='Sample Group', y='Voltage', data=df)\n",
    "sns.boxplot(x='class', y='tensao', data=df_full)\n",
    "plt.title('Distribution of Voltage for Each Sample Group')\n",
    "plt.xticks(rotation=45)\n",
    "plt.show()\n",
    "\n",
    "# Plot the distributions of Voltage for each Sample Group\n",
    "plt.figure(figsize=(10, 6))\n",
    "#sns.boxplot(x='Sample Group', y='Voltage', data=df)\n",
    "sns.boxplot(x='class', y='condutancia', data=df_full)\n",
    "plt.title('Distribution of Voltage for Each Sample Group')\n",
    "plt.xticks(rotation=45)\n",
    "plt.show()\n",
    "\n",
    "# Plot the distributions of StdV for each Sample Group\n",
    "#plt.figure(figsize=(10, 6))\n",
    "#sns.boxplot(x='Sample Group', y='StdV', data=df)\n",
    "#plt.title('Distribution of StdV for Each Sample Group')\n",
    "#plt.xticks(rotation=45)\n",
    "#plt.show()\n"
   ]
  },
  {
   "cell_type": "code",
   "execution_count": null,
   "metadata": {},
   "outputs": [],
   "source": [
    "# prompt: Using df, run a hypothesis t-test, comparing class 0 with 1, 0 with 2, 0 with 3, 1 with 2, 1 with 3, 2 with 3, print the result in text, saying if the distributions are similar or not\n",
    "\n",
    "# Perform t-tests and print results\n",
    "def compare_distributions(df, class1, class2):\n",
    "  group1 = df[df['class'] == class1]['tensao']\n",
    "  group2 = df[df['class'] == class2]['tensao']\n",
    "  t_statistic, p_value = stats.ttest_ind(group1, group2, equal_var=False)  # Assuming unequal variances\n",
    "\n",
    "  if p_value < 0.05:\n",
    "    print(f\"The distributions of class {class1} and class {class2} are significantly different (p-value: {p_value:.3f}).\")\n",
    "  else:\n",
    "    print(f\"The distributions of class {class1} and class {class2} are not significantly different (p-value: {p_value:.3f}).\")\n",
    "\n",
    "# Compare all pairs of classes\n",
    "compare_distributions(df_full, 0, 1)\n",
    "compare_distributions(df_full, 0, 2)\n",
    "compare_distributions(df_full, 0, 3)\n",
    "compare_distributions(df_full, 1, 2)\n",
    "compare_distributions(df_full, 1, 3)\n",
    "compare_distributions(df_full, 2, 3)\n"
   ]
  },
  {
   "cell_type": "code",
   "execution_count": null,
   "metadata": {},
   "outputs": [],
   "source": [
    "#drop nan values of dataset\n",
    "df_full = df_full.dropna()\n",
    "df_corrente = df_corrente.dropna()\n",
    "df_correntein = df_correntein.dropna()\n",
    "df_tensao = df_tensao.dropna()\n",
    "df_tensaoin = df_tensaoin.dropna()"
   ]
  },
  {
   "cell_type": "code",
   "execution_count": null,
   "metadata": {},
   "outputs": [],
   "source": [
    "#checking if the classes are balanced\n",
    "sns.histplot(df_full,x='class')"
   ]
  },
  {
   "cell_type": "code",
   "execution_count": null,
   "metadata": {},
   "outputs": [],
   "source": [
    "#No balanced samples found.\n",
    "#Iniciating processing of dataset for balancing samples and prepare the matrix input of the AutoML\n",
    "v_x = df_tensaoin.drop(columns=['DataHora','cabecote','valor','turno','class'])\n",
    "v_y = df_tensaoin[['class']]"
   ]
  },
  {
   "cell_type": "code",
   "execution_count": null,
   "metadata": {},
   "outputs": [],
   "source": [
    "sns.histplot(v_y,x='class')"
   ]
  },
  {
   "cell_type": "code",
   "execution_count": null,
   "metadata": {},
   "outputs": [],
   "source": [
    "for classe in v_y['class'].unique():\n",
    "    print('Quantidade de ',classe)\n",
    "    print(v_y[ v_y['class'] == classe ].count())\n",
    "    print('--------------')"
   ]
  },
  {
   "cell_type": "code",
   "execution_count": null,
   "metadata": {},
   "outputs": [],
   "source": [
    "#resampling of classes \"Aprovado\" and \"Falha tensao CA baixa\", others classes has few samples.\n",
    "ign = ['Falha polaridade','Falha tensão CA alta']\n",
    "\n",
    "v_x = df_tensaoin.drop(columns=['DataHora','cabecote','valor','turno','class']).drop(index=df_tensaoin[ (df_tensaoin['class'] == ign[0]) | (df_tensaoin['class'] == ign[1]) ].index).reset_index(drop=True)\n",
    "v_y = df_tensaoin[['class']].drop(index=df_tensaoin[ (df_tensaoin['class'] == ign[0]) | (df_tensaoin['class'] == ign[1]) ].index).reset_index(drop=True)"
   ]
  },
  {
   "cell_type": "code",
   "execution_count": null,
   "metadata": {},
   "outputs": [],
   "source": [
    "from imblearn.under_sampling import RandomUnderSampler\n"
   ]
  },
  {
   "cell_type": "code",
   "execution_count": null,
   "metadata": {},
   "outputs": [],
   "source": [
    "rus = RandomUnderSampler(random_state=42, sampling_strategy = 'all')"
   ]
  },
  {
   "cell_type": "code",
   "execution_count": null,
   "metadata": {},
   "outputs": [],
   "source": [
    "vx_re,vy_re = rus.fit_resample(v_x,v_y)"
   ]
  },
  {
   "cell_type": "code",
   "execution_count": null,
   "metadata": {},
   "outputs": [],
   "source": [
    "sns.histplot(vy_re,x='class')"
   ]
  },
  {
   "cell_type": "code",
   "execution_count": null,
   "metadata": {},
   "outputs": [],
   "source": [
    "%matplotlib widget\n",
    "v_in = vx_re.copy()\n",
    "v_in['class'] = vy_re\n",
    "\n",
    "\n",
    "# First model using Pycaret (AutoML), Only Voltage as input.\n",
    "from pycaret.classification import *\n",
    "s = setup(v_in, target = 'class', session_id = 123)#, feature_selection = True)\n",
    "best = create_model('dt', fold = 3)"
   ]
  },
  {
   "cell_type": "code",
   "execution_count": null,
   "metadata": {},
   "outputs": [],
   "source": [
    "evaluate_model(best)"
   ]
  },
  {
   "cell_type": "code",
   "execution_count": null,
   "metadata": {},
   "outputs": [],
   "source": [
    "compare = compare_models()"
   ]
  },
  {
   "cell_type": "code",
   "execution_count": null,
   "metadata": {},
   "outputs": [],
   "source": [
    "s = setup(v_in, target = 'class', session_id = 123)#, feature_selection = True)\n",
    "best = create_model('et', fold = 3)"
   ]
  },
  {
   "cell_type": "code",
   "execution_count": null,
   "metadata": {},
   "outputs": [],
   "source": [
    "evaluate_model(best)"
   ]
  },
  {
   "cell_type": "code",
   "execution_count": null,
   "metadata": {},
   "outputs": [],
   "source": [
    "df_vcin = df_tensaoin.merge(df_correntein, on=['DataHora', 'item','cabecote','valor','turno','class'], suffixes=('_voltage', '_current'))\n",
    "                     #.merge(df_stdv, on=['Sample', 'Sample Group','class'], suffixes=('', '_stdv')) \\\n",
    "                     #.merge(df_inivolt, on=['Sample', 'Sample Group','class'], suffixes=('', '_inivolt'))"
   ]
  },
  {
   "cell_type": "code",
   "execution_count": null,
   "metadata": {},
   "outputs": [],
   "source": [
    "#resampling of classes \"Aprovado\" and \"Falha tensao CA baixa\", others classes has few samples.\n",
    "ign = ['Falha polaridade','Falha tensão CA alta']\n",
    "\n",
    "vc_x = df_vcin.drop(columns=['DataHora','cabecote','valor','turno','class']).drop(index=df_vcin[ (df_vcin['class'] == ign[0]) | (df_vcin['class'] == ign[1]) ].index).reset_index(drop=True)\n",
    "vc_y = df_vcin[['class']].drop(index=df_vcin[ (df_vcin['class'] == ign[0]) | (df_vcin['class'] == ign[1]) ].index).reset_index(drop=True)"
   ]
  },
  {
   "cell_type": "code",
   "execution_count": null,
   "metadata": {},
   "outputs": [],
   "source": [
    "rus = RandomUnderSampler(random_state=42, sampling_strategy = 'all')\n",
    "vcx_re,vcy_re = rus.fit_resample(vc_x,vc_y)"
   ]
  },
  {
   "cell_type": "code",
   "execution_count": null,
   "metadata": {},
   "outputs": [],
   "source": [
    "sns.histplot(vcy_re,x='class')"
   ]
  },
  {
   "cell_type": "code",
   "execution_count": null,
   "metadata": {},
   "outputs": [],
   "source": [
    "vc_in = vcx_re.copy()\n",
    "vc_in['class'] = vcy_re\n",
    "\n",
    "# First model using Pycaret (AutoML), Voltage and Current as input.\n",
    "from pycaret.classification import *\n",
    "s2 = setup(vc_in, target = 'class', session_id = 123)#, feature_selection = True)\n",
    "best2 = create_model('dt', fold = 3)"
   ]
  },
  {
   "cell_type": "code",
   "execution_count": null,
   "metadata": {},
   "outputs": [],
   "source": [
    "evaluate_model(best2)"
   ]
  },
  {
   "cell_type": "code",
   "execution_count": null,
   "metadata": {},
   "outputs": [],
   "source": [
    "compare = compare_models()"
   ]
  },
  {
   "cell_type": "code",
   "execution_count": null,
   "metadata": {},
   "outputs": [],
   "source": [
    "s2 = setup(vc_in, target = 'class', session_id = 123)#, feature_selection = True)\n",
    "best2 = create_model('et', fold = 3)"
   ]
  },
  {
   "cell_type": "code",
   "execution_count": null,
   "metadata": {},
   "outputs": [],
   "source": [
    "evaluate_model(best2)"
   ]
  },
  {
   "cell_type": "code",
   "execution_count": null,
   "metadata": {},
   "outputs": [],
   "source": [
    "############ Create a model utilizing % initial voltage as input"
   ]
  },
  {
   "cell_type": "code",
   "execution_count": null,
   "metadata": {},
   "outputs": [],
   "source": [
    "df_vci_in = df_vcin.merge(df_full[ df_full['sequencia']==0 ].drop(columns=['sequencia','tensao','corrente','condutancia','NormV','NormC'])\n",
    "                          , on=['DataHora', 'item','cabecote','valor','turno','class'])#, suffixes=('_voltage', '_current'))\n",
    "                     #.merge(df_stdv, on=['Sample', 'Sample Group','class'], suffixes=('', '_stdv')) \\\n",
    "                     #.merge(df_inivolt, on=['Sample', 'Sample Group','class'], suffixes=('', '_inivolt'))"
   ]
  },
  {
   "cell_type": "code",
   "execution_count": null,
   "metadata": {},
   "outputs": [],
   "source": [
    "#resampling of classes \"Aprovado\" and \"Falha tensao CA baixa\", others classes has few samples.\n",
    "#Using \"% initial Voltage\" as a input too\n",
    "ign = ['Falha polaridade','Falha tensão CA alta']\n",
    "\n",
    "vci_x = df_vci_in.drop(columns=['DataHora','cabecote','valor','turno','class']).drop(index=df_vcin[ (df_vci_in['class'] == ign[0]) | (df_vci_in['class'] == ign[1]) ].index).reset_index(drop=True)\n",
    "vci_y = df_vci_in[['class']].drop(index=df_vci_in[ (df_vci_in['class'] == ign[0]) | (df_vci_in['class'] == ign[1]) ].index).reset_index(drop=True)"
   ]
  },
  {
   "cell_type": "code",
   "execution_count": null,
   "metadata": {},
   "outputs": [],
   "source": [
    "rus = RandomUnderSampler(random_state=42, sampling_strategy = 'all')\n",
    "vcix_re,vciy_re = rus.fit_resample(vci_x,vci_y)"
   ]
  },
  {
   "cell_type": "code",
   "execution_count": null,
   "metadata": {},
   "outputs": [],
   "source": [
    "sns.histplot(vciy_re,x='class')"
   ]
  },
  {
   "cell_type": "code",
   "execution_count": null,
   "metadata": {},
   "outputs": [],
   "source": [
    "vci_in = vcix_re.copy()\n",
    "vci_in['class'] = vciy_re\n",
    "\n",
    "# First model using Pycaret (AutoML), Voltage and Current as input.\n",
    "from pycaret.classification import *\n",
    "s3 = setup(vci_in, target = 'class', session_id = 123)#, feature_selection = True)\n",
    "best3 = create_model('dt', fold = 3)"
   ]
  },
  {
   "cell_type": "code",
   "execution_count": null,
   "metadata": {
    "colab": {
     "base_uri": "https://localhost:8080/",
     "height": 832
    },
    "executionInfo": {
     "elapsed": 556,
     "status": "ok",
     "timestamp": 1725450626013,
     "user": {
      "displayName": "Dênis Leite",
      "userId": "15614298836218650389"
     },
     "user_tz": 180
    },
    "id": "e4YEENw5G5I2",
    "outputId": "52b219f9-2cc4-4316-dd15-1295128191f4"
   },
   "outputs": [],
   "source": [
    "evaluate_model(best3)"
   ]
  },
  {
   "cell_type": "code",
   "execution_count": null,
   "metadata": {
    "colab": {
     "base_uri": "https://localhost:8080/",
     "height": 832
    },
    "executionInfo": {
     "elapsed": 1055,
     "status": "ok",
     "timestamp": 1725450641987,
     "user": {
      "displayName": "Dênis Leite",
      "userId": "15614298836218650389"
     },
     "user_tz": 180
    },
    "id": "x1-0ogpavcBl",
    "outputId": "7de127fb-3247-4248-d245-81d08787c2b1"
   },
   "outputs": [],
   "source": [
    "compare = compare_models()"
   ]
  },
  {
   "cell_type": "code",
   "execution_count": null,
   "metadata": {},
   "outputs": [],
   "source": [
    "s3 = setup(vci_in, target = 'class', session_id = 123)#, feature_selection = True)\n",
    "best3 = create_model('et', fold = 3)"
   ]
  },
  {
   "cell_type": "code",
   "execution_count": null,
   "metadata": {},
   "outputs": [],
   "source": [
    "evaluate_model(best3)"
   ]
  },
  {
   "cell_type": "code",
   "execution_count": null,
   "metadata": {},
   "outputs": [],
   "source": [
    "####### Check data balancing about type of battery \"item\""
   ]
  },
  {
   "cell_type": "code",
   "execution_count": null,
   "metadata": {},
   "outputs": [],
   "source": [
    "%matplotlib inline\n",
    "ht = sns.histplot(vci_in,x='class',hue='item',multiple='stack',palette='deep')\n",
    "sns.move_legend(ht,bbox_to_anchor=(1,1.02), loc='upper left')\n",
    "#plt.title('Count by \"PosY\"')\n",
    "plt.ticklabel_format(style='plain', axis='y')\n",
    "plt.xticks(rotation=45)\n",
    "plt.show()"
   ]
  },
  {
   "cell_type": "code",
   "execution_count": null,
   "metadata": {},
   "outputs": [],
   "source": [
    "vci_in['item'].unique()"
   ]
  },
  {
   "cell_type": "code",
   "execution_count": null,
   "metadata": {},
   "outputs": [],
   "source": [
    "# modelling for one type of battery, the most one type frequency \"M75LD\""
   ]
  },
  {
   "cell_type": "code",
   "execution_count": null,
   "metadata": {},
   "outputs": [],
   "source": [
    "# First model using Pycaret (AutoML), Voltage and Current as input.\n",
    "from pycaret.classification import *\n",
    "s4 = setup(vci_in [ vci_in['item']=='M75LD'], target = 'class',ignore_features = ['item'], session_id = 123)#, feature_selection = True)\n",
    "best4 = create_model('et', fold = 3)"
   ]
  },
  {
   "cell_type": "code",
   "execution_count": null,
   "metadata": {},
   "outputs": [],
   "source": [
    "evaluate_model(best4)"
   ]
  },
  {
   "cell_type": "code",
   "execution_count": null,
   "metadata": {},
   "outputs": [],
   "source": [
    "### creating model using oversampling, voltage+current+$ initial voltage for two types of defects\n",
    "\n",
    "from imblearn.over_sampling import RandomOverSampler\n",
    "\n",
    "# creating SMOTE instancy\n",
    "ros = RandomOverSampler(random_state=42, sampling_strategy = 'all')\n",
    "\n",
    "#resampling for all classes\n",
    "vci_xall = df_vci_in.drop(columns=['DataHora','cabecote','valor','turno','class'])\n",
    "vci_yall = df_vci_in[['class']]\n",
    "\n",
    "# balanceando os dados\n",
    "vci_xall_re, vci_yall_re = ros.fit_resample(vci_xall, vci_yall)"
   ]
  },
  {
   "cell_type": "code",
   "execution_count": null,
   "metadata": {},
   "outputs": [],
   "source": [
    "vci_inall = vci_xall_re.copy()\n",
    "vci_inall['class'] = vci_yall_re"
   ]
  },
  {
   "cell_type": "code",
   "execution_count": null,
   "metadata": {},
   "outputs": [],
   "source": [
    "%matplotlib inline\n",
    "ht = sns.histplot(vci_inall,x='class',hue='item',multiple='stack',palette='deep')\n",
    "sns.move_legend(ht,bbox_to_anchor=(1,1.02), loc='upper left')\n",
    "#plt.title('Count by \"PosY\"')\n",
    "plt.ticklabel_format(style='plain', axis='y')\n",
    "plt.xticks(rotation=45)\n",
    "plt.show()"
   ]
  },
  {
   "cell_type": "code",
   "execution_count": null,
   "metadata": {},
   "outputs": [],
   "source": [
    "# First model using Pycaret (AutoML), Voltage and Current as input.\n",
    "from pycaret.classification import *\n",
    "s5 = setup(vci_inall, target = 'class', session_id = 123)#, feature_selection = True)\n",
    "best5 = create_model('et', fold = 3)"
   ]
  },
  {
   "cell_type": "code",
   "execution_count": null,
   "metadata": {},
   "outputs": [],
   "source": [
    "evaluate_model(best5)"
   ]
  },
  {
   "cell_type": "markdown",
   "metadata": {},
   "source": [
    "## Clustering Analysis"
   ]
  },
  {
   "cell_type": "code",
   "execution_count": null,
   "metadata": {},
   "outputs": [],
   "source": [
    "df_vci_in.groupby('item')['class'].count().reset_index(name='count').sort_values('count')"
   ]
  },
  {
   "cell_type": "code",
   "execution_count": null,
   "metadata": {},
   "outputs": [],
   "source": [
    "input1 = df_vci_in[ df_vci_in['item'] == 'MF72LD' ] "
   ]
  },
  {
   "cell_type": "code",
   "execution_count": null,
   "metadata": {},
   "outputs": [],
   "source": [
    "# @title Testing Time vs Voltage\n",
    "df_full[df_full['item'] ==  'MF72LD'].plot(kind='scatter', x='sequencia', y='tensao', s=32, alpha=.8)\n",
    "plt.gca().spines[['top', 'right',]].set_visible(False)"
   ]
  },
  {
   "cell_type": "code",
   "execution_count": null,
   "metadata": {},
   "outputs": [],
   "source": [
    "# @title Testing Time vs Voltage\n",
    "df_full[df_full['item'] ==  'MF72LD'].plot(kind='scatter', x='sequencia', y='condutancia', s=32, alpha=.8)\n",
    "plt.gca().spines[['top', 'right',]].set_visible(False)"
   ]
  },
  {
   "cell_type": "code",
   "execution_count": null,
   "metadata": {},
   "outputs": [],
   "source": [
    "from pycaret.clustering import *\n",
    "clustering1 = setup(input1,ignore_features = ['Class'], session_id = 123)#, feature_selection = True)\n"
   ]
  },
  {
   "cell_type": "code",
   "execution_count": null,
   "metadata": {},
   "outputs": [],
   "source": [
    "kmeans1 = create_model('kmeans')"
   ]
  },
  {
   "cell_type": "code",
   "execution_count": null,
   "metadata": {},
   "outputs": [],
   "source": [
    "results1 = assign_model(kmeans1)\n",
    "results1.head()"
   ]
  },
  {
   "cell_type": "code",
   "execution_count": null,
   "metadata": {},
   "outputs": [],
   "source": [
    "plot_model(kmeans1)\n"
   ]
  },
  {
   "cell_type": "code",
   "execution_count": null,
   "metadata": {},
   "outputs": [],
   "source": [
    "%matplotlib inline\n",
    "plot_model(kmeans1, feature = 'class', label=True)\n",
    "print(results1['class'].unique())\n",
    "print('Class Aprovado = ',results1[results1['class']=='Aprovado']['Cluster'].unique())\n",
    "print('Class Falha tensão CA baixa = ',results1[results1['class']=='Aprovado']['Cluster'].unique())\n",
    "print('Class Falha polaridade = ',results1[results1['class']=='Aprovado']['Cluster'].unique())"
   ]
  },
  {
   "cell_type": "code",
   "execution_count": null,
   "metadata": {},
   "outputs": [],
   "source": [
    "plot_model(kmeans1, plot = 'distance')"
   ]
  },
  {
   "cell_type": "code",
   "execution_count": null,
   "metadata": {},
   "outputs": [],
   "source": [
    "plot_model(kmeans1, plot = 'distribution')"
   ]
  },
  {
   "cell_type": "code",
   "execution_count": null,
   "metadata": {},
   "outputs": [],
   "source": [
    "plot_model(kmeans1, plot = 'elbow')"
   ]
  },
  {
   "cell_type": "code",
   "execution_count": null,
   "metadata": {},
   "outputs": [],
   "source": [
    "results1.to_csv('kmeans_model_MF72LD.csv')"
   ]
  },
  {
   "cell_type": "code",
   "execution_count": null,
   "metadata": {},
   "outputs": [],
   "source": []
  },
  {
   "cell_type": "code",
   "execution_count": null,
   "metadata": {},
   "outputs": [],
   "source": [
    "input2 = df_vci_in[ df_vci_in['item'] == 'M75LD' ] "
   ]
  },
  {
   "cell_type": "code",
   "execution_count": null,
   "metadata": {},
   "outputs": [],
   "source": [
    "# @title Testing Time vs Voltage\n",
    "df_full[df_full['item'] ==  'M75LD'].plot(kind='scatter', x='sequencia', y='tensao', s=32, alpha=.8)\n",
    "plt.gca().spines[['top', 'right',]].set_visible(False)"
   ]
  },
  {
   "cell_type": "code",
   "execution_count": null,
   "metadata": {},
   "outputs": [],
   "source": [
    "# @title Testing Time vs Voltage\n",
    "df_full[df_full['item'] ==  'M75LD'].plot(kind='scatter', x='sequencia', y='condutancia', s=32, alpha=.8)\n",
    "plt.gca().spines[['top', 'right',]].set_visible(False)"
   ]
  },
  {
   "cell_type": "code",
   "execution_count": null,
   "metadata": {},
   "outputs": [],
   "source": [
    "from pycaret.clustering import *\n",
    "clustering2 = setup(input2,ignore_features = ['Class'], session_id = 123)#, feature_selection = True)\n"
   ]
  },
  {
   "cell_type": "code",
   "execution_count": null,
   "metadata": {},
   "outputs": [],
   "source": [
    "kmeans2 = create_model('kmeans')"
   ]
  },
  {
   "cell_type": "code",
   "execution_count": null,
   "metadata": {},
   "outputs": [],
   "source": [
    "results2 = assign_model(kmeans2)\n",
    "results2.head()"
   ]
  },
  {
   "cell_type": "code",
   "execution_count": null,
   "metadata": {},
   "outputs": [],
   "source": [
    "plot_model(kmeans2)\n"
   ]
  },
  {
   "cell_type": "code",
   "execution_count": null,
   "metadata": {},
   "outputs": [],
   "source": [
    "results2.to_csv('kmeans_model_M75LD.csv')"
   ]
  },
  {
   "cell_type": "code",
   "execution_count": null,
   "metadata": {},
   "outputs": [],
   "source": [
    "%matplotlib inline\n",
    "plot_model(kmeans2, feature = 'class', label=True)\n",
    "print(results2['class'].unique())\n",
    "print('Class Aprovado = ',results2[results2['class']=='Aprovado']['Cluster'].unique())\n",
    "print('Class Falha tensão CA baixa = ',results2[results2['class']=='Aprovado']['Cluster'].unique())\n",
    "print('Class Falha polaridade = ',results2[results2['class']=='Aprovado']['Cluster'].unique())"
   ]
  },
  {
   "cell_type": "code",
   "execution_count": null,
   "metadata": {},
   "outputs": [],
   "source": [
    "plot_model(kmeans2, plot = 'distance')"
   ]
  },
  {
   "cell_type": "code",
   "execution_count": null,
   "metadata": {},
   "outputs": [],
   "source": [
    "plot_model(kmeans2, plot = 'distribution')"
   ]
  },
  {
   "cell_type": "code",
   "execution_count": null,
   "metadata": {},
   "outputs": [],
   "source": [
    "plot_model(kmeans2, plot = 'elbow')"
   ]
  },
  {
   "cell_type": "code",
   "execution_count": null,
   "metadata": {},
   "outputs": [],
   "source": [
    "### Preprocessing results..."
   ]
  }
 ],
 "metadata": {
  "colab": {
   "authorship_tag": "ABX9TyM0rDlovPG8bh4GwSOgcO1Y",
   "mount_file_id": "1_-CnmRxzv_MfBoyB-zbBgEFu35hArHEK",
   "provenance": []
  },
  "kernelspec": {
   "display_name": "Python 3 (ipykernel)",
   "language": "python",
   "name": "python3"
  },
  "language_info": {
   "codemirror_mode": {
    "name": "ipython",
    "version": 3
   },
   "file_extension": ".py",
   "mimetype": "text/x-python",
   "name": "python",
   "nbconvert_exporter": "python",
   "pygments_lexer": "ipython3",
   "version": "3.11.7"
  },
  "widgets": {
   "application/vnd.jupyter.widget-state+json": {
    "0982f2a4acb14125b05e677f507fd1bd": {
     "model_module": "@jupyter-widgets/base",
     "model_module_version": "1.2.0",
     "model_name": "LayoutModel",
     "state": {
      "_model_module": "@jupyter-widgets/base",
      "_model_module_version": "1.2.0",
      "_model_name": "LayoutModel",
      "_view_count": null,
      "_view_module": "@jupyter-widgets/base",
      "_view_module_version": "1.2.0",
      "_view_name": "LayoutView",
      "align_content": null,
      "align_items": null,
      "align_self": null,
      "border": null,
      "bottom": null,
      "display": null,
      "flex": null,
      "flex_flow": null,
      "grid_area": null,
      "grid_auto_columns": null,
      "grid_auto_flow": null,
      "grid_auto_rows": null,
      "grid_column": null,
      "grid_gap": null,
      "grid_row": null,
      "grid_template_areas": null,
      "grid_template_columns": null,
      "grid_template_rows": null,
      "height": null,
      "justify_content": null,
      "justify_items": null,
      "left": null,
      "margin": null,
      "max_height": null,
      "max_width": null,
      "min_height": null,
      "min_width": null,
      "object_fit": null,
      "object_position": null,
      "order": null,
      "overflow": null,
      "overflow_x": null,
      "overflow_y": null,
      "padding": null,
      "right": null,
      "top": null,
      "visibility": null,
      "width": null
     }
    },
    "0e6db9910afa4482b76b996b4a027c95": {
     "model_module": "@jupyter-widgets/controls",
     "model_module_version": "1.5.0",
     "model_name": "HTMLModel",
     "state": {
      "_dom_classes": [],
      "_model_module": "@jupyter-widgets/controls",
      "_model_module_version": "1.5.0",
      "_model_name": "HTMLModel",
      "_view_count": null,
      "_view_module": "@jupyter-widgets/controls",
      "_view_module_version": "1.5.0",
      "_view_name": "HTMLView",
      "description": "",
      "description_tooltip": null,
      "layout": "IPY_MODEL_a47fb50448754a3fa70002f2be41a56f",
      "placeholder": "​",
      "style": "IPY_MODEL_2830d6cc6cb148089e5b340b01b96f9a",
      "value": "Processing:   0%"
     }
    },
    "18452f28c075423b8757bf88b0492ae2": {
     "model_module": "@jupyter-widgets/controls",
     "model_module_version": "1.5.0",
     "model_name": "ToggleButtonsStyleModel",
     "state": {
      "_model_module": "@jupyter-widgets/controls",
      "_model_module_version": "1.5.0",
      "_model_name": "ToggleButtonsStyleModel",
      "_view_count": null,
      "_view_module": "@jupyter-widgets/base",
      "_view_module_version": "1.2.0",
      "_view_name": "StyleView",
      "button_width": "",
      "description_width": "",
      "font_weight": ""
     }
    },
    "2830d6cc6cb148089e5b340b01b96f9a": {
     "model_module": "@jupyter-widgets/controls",
     "model_module_version": "1.5.0",
     "model_name": "DescriptionStyleModel",
     "state": {
      "_model_module": "@jupyter-widgets/controls",
      "_model_module_version": "1.5.0",
      "_model_name": "DescriptionStyleModel",
      "_view_count": null,
      "_view_module": "@jupyter-widgets/base",
      "_view_module_version": "1.2.0",
      "_view_name": "StyleView",
      "description_width": ""
     }
    },
    "2b428e9bbfc84b03a92514705bbc31e6": {
     "model_module": "@jupyter-widgets/controls",
     "model_module_version": "1.5.0",
     "model_name": "HBoxModel",
     "state": {
      "_dom_classes": [],
      "_model_module": "@jupyter-widgets/controls",
      "_model_module_version": "1.5.0",
      "_model_name": "HBoxModel",
      "_view_count": null,
      "_view_module": "@jupyter-widgets/controls",
      "_view_module_version": "1.5.0",
      "_view_name": "HBoxView",
      "box_style": "",
      "children": [
       "IPY_MODEL_7f3210ea9a5b495d819f86804cd27eff",
       "IPY_MODEL_39aaeee19084429bb8000caeef8f476e",
       "IPY_MODEL_9eb6b08b9bea4f52a1df038730bd55e7"
      ],
      "layout": "IPY_MODEL_f5999cf1587c4c8988dfc3757d79f9db"
     }
    },
    "2de1158999cd4fccb2084ff226aa1da3": {
     "model_module": "@jupyter-widgets/base",
     "model_module_version": "1.2.0",
     "model_name": "LayoutModel",
     "state": {
      "_model_module": "@jupyter-widgets/base",
      "_model_module_version": "1.2.0",
      "_model_name": "LayoutModel",
      "_view_count": null,
      "_view_module": "@jupyter-widgets/base",
      "_view_module_version": "1.2.0",
      "_view_name": "LayoutView",
      "align_content": null,
      "align_items": null,
      "align_self": null,
      "border": null,
      "bottom": null,
      "display": null,
      "flex": null,
      "flex_flow": null,
      "grid_area": null,
      "grid_auto_columns": null,
      "grid_auto_flow": null,
      "grid_auto_rows": null,
      "grid_column": null,
      "grid_gap": null,
      "grid_row": null,
      "grid_template_areas": null,
      "grid_template_columns": null,
      "grid_template_rows": null,
      "height": null,
      "justify_content": null,
      "justify_items": null,
      "left": null,
      "margin": null,
      "max_height": null,
      "max_width": null,
      "min_height": null,
      "min_width": null,
      "object_fit": null,
      "object_position": null,
      "order": null,
      "overflow": null,
      "overflow_x": null,
      "overflow_y": null,
      "padding": null,
      "right": null,
      "top": null,
      "visibility": null,
      "width": null
     }
    },
    "39aaeee19084429bb8000caeef8f476e": {
     "model_module": "@jupyter-widgets/controls",
     "model_module_version": "1.5.0",
     "model_name": "FloatProgressModel",
     "state": {
      "_dom_classes": [],
      "_model_module": "@jupyter-widgets/controls",
      "_model_module_version": "1.5.0",
      "_model_name": "FloatProgressModel",
      "_view_count": null,
      "_view_module": "@jupyter-widgets/controls",
      "_view_module_version": "1.5.0",
      "_view_name": "ProgressView",
      "bar_style": "",
      "description": "",
      "description_tooltip": null,
      "layout": "IPY_MODEL_bb30df767e6643bbace071eee702f01a",
      "max": 3,
      "min": 0,
      "orientation": "horizontal",
      "style": "IPY_MODEL_e6eb67ecf6b541e6aa67f898b093d800",
      "value": 0
     }
    },
    "4005e2b073f646afa62beb35889645cb": {
     "model_module": "@jupyter-widgets/controls",
     "model_module_version": "1.5.0",
     "model_name": "ProgressStyleModel",
     "state": {
      "_model_module": "@jupyter-widgets/controls",
      "_model_module_version": "1.5.0",
      "_model_name": "ProgressStyleModel",
      "_view_count": null,
      "_view_module": "@jupyter-widgets/base",
      "_view_module_version": "1.2.0",
      "_view_name": "StyleView",
      "bar_color": null,
      "description_width": ""
     }
    },
    "42d58222fde142e6ab1ea56f608cd13e": {
     "model_module": "@jupyter-widgets/controls",
     "model_module_version": "1.5.0",
     "model_name": "HTMLModel",
     "state": {
      "_dom_classes": [],
      "_model_module": "@jupyter-widgets/controls",
      "_model_module_version": "1.5.0",
      "_model_name": "HTMLModel",
      "_view_count": null,
      "_view_module": "@jupyter-widgets/controls",
      "_view_module_version": "1.5.0",
      "_view_name": "HTMLView",
      "description": "",
      "description_tooltip": null,
      "layout": "IPY_MODEL_e94cf9fe634f468d8632137e7139b2ef",
      "placeholder": "​",
      "style": "IPY_MODEL_fa399574b54a4c68a187ce6278b9e298",
      "value": " 0/4 [00:00&lt;?, ?it/s]"
     }
    },
    "52cbf262c7d845c48b95b6530ef05700": {
     "model_module": "@jupyter-widgets/controls",
     "model_module_version": "1.5.0",
     "model_name": "DescriptionStyleModel",
     "state": {
      "_model_module": "@jupyter-widgets/controls",
      "_model_module_version": "1.5.0",
      "_model_name": "DescriptionStyleModel",
      "_view_count": null,
      "_view_module": "@jupyter-widgets/base",
      "_view_module_version": "1.2.0",
      "_view_name": "StyleView",
      "description_width": ""
     }
    },
    "553d6cab4c87490bbc36e0f3eac199d2": {
     "model_module": "@jupyter-widgets/base",
     "model_module_version": "1.2.0",
     "model_name": "LayoutModel",
     "state": {
      "_model_module": "@jupyter-widgets/base",
      "_model_module_version": "1.2.0",
      "_model_name": "LayoutModel",
      "_view_count": null,
      "_view_module": "@jupyter-widgets/base",
      "_view_module_version": "1.2.0",
      "_view_name": "LayoutView",
      "align_content": null,
      "align_items": null,
      "align_self": null,
      "border": null,
      "bottom": null,
      "display": null,
      "flex": null,
      "flex_flow": null,
      "grid_area": null,
      "grid_auto_columns": null,
      "grid_auto_flow": null,
      "grid_auto_rows": null,
      "grid_column": null,
      "grid_gap": null,
      "grid_row": null,
      "grid_template_areas": null,
      "grid_template_columns": null,
      "grid_template_rows": null,
      "height": null,
      "justify_content": null,
      "justify_items": null,
      "left": null,
      "margin": null,
      "max_height": null,
      "max_width": null,
      "min_height": null,
      "min_width": null,
      "object_fit": null,
      "object_position": null,
      "order": null,
      "overflow": null,
      "overflow_x": null,
      "overflow_y": null,
      "padding": null,
      "right": null,
      "top": null,
      "visibility": null,
      "width": null
     }
    },
    "7f3210ea9a5b495d819f86804cd27eff": {
     "model_module": "@jupyter-widgets/controls",
     "model_module_version": "1.5.0",
     "model_name": "HTMLModel",
     "state": {
      "_dom_classes": [],
      "_model_module": "@jupyter-widgets/controls",
      "_model_module_version": "1.5.0",
      "_model_name": "HTMLModel",
      "_view_count": null,
      "_view_module": "@jupyter-widgets/controls",
      "_view_module_version": "1.5.0",
      "_view_name": "HTMLView",
      "description": "",
      "description_tooltip": null,
      "layout": "IPY_MODEL_2de1158999cd4fccb2084ff226aa1da3",
      "placeholder": "​",
      "style": "IPY_MODEL_8a463d67e2284bab8b35c37f4bd5fda9",
      "value": "Processing:   0%"
     }
    },
    "8a463d67e2284bab8b35c37f4bd5fda9": {
     "model_module": "@jupyter-widgets/controls",
     "model_module_version": "1.5.0",
     "model_name": "DescriptionStyleModel",
     "state": {
      "_model_module": "@jupyter-widgets/controls",
      "_model_module_version": "1.5.0",
      "_model_name": "DescriptionStyleModel",
      "_view_count": null,
      "_view_module": "@jupyter-widgets/base",
      "_view_module_version": "1.2.0",
      "_view_name": "StyleView",
      "description_width": ""
     }
    },
    "8a8cd0ae76d0410fa83cbeb186da64c5": {
     "model_module": "@jupyter-widgets/base",
     "model_module_version": "1.2.0",
     "model_name": "LayoutModel",
     "state": {
      "_model_module": "@jupyter-widgets/base",
      "_model_module_version": "1.2.0",
      "_model_name": "LayoutModel",
      "_view_count": null,
      "_view_module": "@jupyter-widgets/base",
      "_view_module_version": "1.2.0",
      "_view_name": "LayoutView",
      "align_content": null,
      "align_items": null,
      "align_self": null,
      "border": null,
      "bottom": null,
      "display": null,
      "flex": null,
      "flex_flow": null,
      "grid_area": null,
      "grid_auto_columns": null,
      "grid_auto_flow": null,
      "grid_auto_rows": null,
      "grid_column": null,
      "grid_gap": null,
      "grid_row": null,
      "grid_template_areas": null,
      "grid_template_columns": null,
      "grid_template_rows": null,
      "height": null,
      "justify_content": null,
      "justify_items": null,
      "left": null,
      "margin": null,
      "max_height": null,
      "max_width": null,
      "min_height": null,
      "min_width": null,
      "object_fit": null,
      "object_position": null,
      "order": null,
      "overflow": null,
      "overflow_x": null,
      "overflow_y": null,
      "padding": null,
      "right": null,
      "top": null,
      "visibility": null,
      "width": null
     }
    },
    "901476a784b54d8aad573d9559bed4e8": {
     "model_module": "@jupyter-widgets/base",
     "model_module_version": "1.2.0",
     "model_name": "LayoutModel",
     "state": {
      "_model_module": "@jupyter-widgets/base",
      "_model_module_version": "1.2.0",
      "_model_name": "LayoutModel",
      "_view_count": null,
      "_view_module": "@jupyter-widgets/base",
      "_view_module_version": "1.2.0",
      "_view_name": "LayoutView",
      "align_content": null,
      "align_items": null,
      "align_self": null,
      "border": null,
      "bottom": null,
      "display": null,
      "flex": null,
      "flex_flow": null,
      "grid_area": null,
      "grid_auto_columns": null,
      "grid_auto_flow": null,
      "grid_auto_rows": null,
      "grid_column": null,
      "grid_gap": null,
      "grid_row": null,
      "grid_template_areas": null,
      "grid_template_columns": null,
      "grid_template_rows": null,
      "height": null,
      "justify_content": null,
      "justify_items": null,
      "left": null,
      "margin": null,
      "max_height": null,
      "max_width": null,
      "min_height": null,
      "min_width": null,
      "object_fit": null,
      "object_position": null,
      "order": null,
      "overflow": null,
      "overflow_x": null,
      "overflow_y": null,
      "padding": null,
      "right": null,
      "top": null,
      "visibility": "hidden",
      "width": null
     }
    },
    "956b778a5d894d2384d9b4b78dee58c3": {
     "model_module": "@jupyter-widgets/controls",
     "model_module_version": "1.5.0",
     "model_name": "VBoxModel",
     "state": {
      "_dom_classes": [
       "widget-interact"
      ],
      "_model_module": "@jupyter-widgets/controls",
      "_model_module_version": "1.5.0",
      "_model_name": "VBoxModel",
      "_view_count": null,
      "_view_module": "@jupyter-widgets/controls",
      "_view_module_version": "1.5.0",
      "_view_name": "VBoxView",
      "box_style": "",
      "children": [
       "IPY_MODEL_a78b13e63998457ab64c03f89a218246",
       "IPY_MODEL_a8a8143b14944db2b4548196c7aa7153"
      ],
      "layout": "IPY_MODEL_f5da6509d0d14c7f98eda3961cbccfe5"
     }
    },
    "99a04a4402cb4044bdec07e6d6555f87": {
     "model_module": "@jupyter-widgets/controls",
     "model_module_version": "1.5.0",
     "model_name": "FloatProgressModel",
     "state": {
      "_dom_classes": [],
      "_model_module": "@jupyter-widgets/controls",
      "_model_module_version": "1.5.0",
      "_model_name": "FloatProgressModel",
      "_view_count": null,
      "_view_module": "@jupyter-widgets/controls",
      "_view_module_version": "1.5.0",
      "_view_name": "ProgressView",
      "bar_style": "",
      "description": "",
      "description_tooltip": null,
      "layout": "IPY_MODEL_553d6cab4c87490bbc36e0f3eac199d2",
      "max": 4,
      "min": 0,
      "orientation": "horizontal",
      "style": "IPY_MODEL_4005e2b073f646afa62beb35889645cb",
      "value": 4
     }
    },
    "9eb6b08b9bea4f52a1df038730bd55e7": {
     "model_module": "@jupyter-widgets/controls",
     "model_module_version": "1.5.0",
     "model_name": "HTMLModel",
     "state": {
      "_dom_classes": [],
      "_model_module": "@jupyter-widgets/controls",
      "_model_module_version": "1.5.0",
      "_model_name": "HTMLModel",
      "_view_count": null,
      "_view_module": "@jupyter-widgets/controls",
      "_view_module_version": "1.5.0",
      "_view_name": "HTMLView",
      "description": "",
      "description_tooltip": null,
      "layout": "IPY_MODEL_e606ad3b922c4ac98d9780546b3ea71d",
      "placeholder": "​",
      "style": "IPY_MODEL_52cbf262c7d845c48b95b6530ef05700",
      "value": " 0/3 [00:00&lt;?, ?it/s]"
     }
    },
    "a47fb50448754a3fa70002f2be41a56f": {
     "model_module": "@jupyter-widgets/base",
     "model_module_version": "1.2.0",
     "model_name": "LayoutModel",
     "state": {
      "_model_module": "@jupyter-widgets/base",
      "_model_module_version": "1.2.0",
      "_model_name": "LayoutModel",
      "_view_count": null,
      "_view_module": "@jupyter-widgets/base",
      "_view_module_version": "1.2.0",
      "_view_name": "LayoutView",
      "align_content": null,
      "align_items": null,
      "align_self": null,
      "border": null,
      "bottom": null,
      "display": null,
      "flex": null,
      "flex_flow": null,
      "grid_area": null,
      "grid_auto_columns": null,
      "grid_auto_flow": null,
      "grid_auto_rows": null,
      "grid_column": null,
      "grid_gap": null,
      "grid_row": null,
      "grid_template_areas": null,
      "grid_template_columns": null,
      "grid_template_rows": null,
      "height": null,
      "justify_content": null,
      "justify_items": null,
      "left": null,
      "margin": null,
      "max_height": null,
      "max_width": null,
      "min_height": null,
      "min_width": null,
      "object_fit": null,
      "object_position": null,
      "order": null,
      "overflow": null,
      "overflow_x": null,
      "overflow_y": null,
      "padding": null,
      "right": null,
      "top": null,
      "visibility": null,
      "width": null
     }
    },
    "a78b13e63998457ab64c03f89a218246": {
     "model_module": "@jupyter-widgets/controls",
     "model_module_version": "1.5.0",
     "model_name": "ToggleButtonsModel",
     "state": {
      "_dom_classes": [],
      "_model_module": "@jupyter-widgets/controls",
      "_model_module_version": "1.5.0",
      "_model_name": "ToggleButtonsModel",
      "_options_labels": [
       "Pipeline Plot",
       "Hyperparameters",
       "AUC",
       "Confusion Matrix",
       "Threshold",
       "Precision Recall",
       "Prediction Error",
       "Class Report",
       "Feature Selection",
       "Learning Curve",
       "Manifold Learning",
       "Calibration Curve",
       "Validation Curve",
       "Dimensions",
       "Feature Importance",
       "Feature Importance (All)",
       "Decision Boundary",
       "Lift Chart",
       "Gain Chart",
       "Decision Tree",
       "KS Statistic Plot"
      ],
      "_view_count": null,
      "_view_module": "@jupyter-widgets/controls",
      "_view_module_version": "1.5.0",
      "_view_name": "ToggleButtonsView",
      "button_style": "",
      "description": "Plot Type:",
      "description_tooltip": null,
      "disabled": false,
      "icons": [
       ""
      ],
      "index": 3,
      "layout": "IPY_MODEL_0982f2a4acb14125b05e677f507fd1bd",
      "style": "IPY_MODEL_18452f28c075423b8757bf88b0492ae2",
      "tooltips": []
     }
    },
    "a8a8143b14944db2b4548196c7aa7153": {
     "model_module": "@jupyter-widgets/output",
     "model_module_version": "1.0.0",
     "model_name": "OutputModel",
     "state": {
      "_dom_classes": [],
      "_model_module": "@jupyter-widgets/output",
      "_model_module_version": "1.0.0",
      "_model_name": "OutputModel",
      "_view_count": null,
      "_view_module": "@jupyter-widgets/output",
      "_view_module_version": "1.0.0",
      "_view_name": "OutputView",
      "layout": "IPY_MODEL_8a8cd0ae76d0410fa83cbeb186da64c5",
      "msg_id": "",
      "outputs": [
       {
        "data": {
         "image/png": "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\n",
         "text/plain": "<Figure size 800x550 with 1 Axes>"
        },
        "metadata": {},
        "output_type": "display_data"
       }
      ]
     }
    },
    "bb30df767e6643bbace071eee702f01a": {
     "model_module": "@jupyter-widgets/base",
     "model_module_version": "1.2.0",
     "model_name": "LayoutModel",
     "state": {
      "_model_module": "@jupyter-widgets/base",
      "_model_module_version": "1.2.0",
      "_model_name": "LayoutModel",
      "_view_count": null,
      "_view_module": "@jupyter-widgets/base",
      "_view_module_version": "1.2.0",
      "_view_name": "LayoutView",
      "align_content": null,
      "align_items": null,
      "align_self": null,
      "border": null,
      "bottom": null,
      "display": null,
      "flex": null,
      "flex_flow": null,
      "grid_area": null,
      "grid_auto_columns": null,
      "grid_auto_flow": null,
      "grid_auto_rows": null,
      "grid_column": null,
      "grid_gap": null,
      "grid_row": null,
      "grid_template_areas": null,
      "grid_template_columns": null,
      "grid_template_rows": null,
      "height": null,
      "justify_content": null,
      "justify_items": null,
      "left": null,
      "margin": null,
      "max_height": null,
      "max_width": null,
      "min_height": null,
      "min_width": null,
      "object_fit": null,
      "object_position": null,
      "order": null,
      "overflow": null,
      "overflow_x": null,
      "overflow_y": null,
      "padding": null,
      "right": null,
      "top": null,
      "visibility": null,
      "width": null
     }
    },
    "c61c9dfa383c469fbb90c6525c28b524": {
     "model_module": "@jupyter-widgets/controls",
     "model_module_version": "1.5.0",
     "model_name": "HBoxModel",
     "state": {
      "_dom_classes": [],
      "_model_module": "@jupyter-widgets/controls",
      "_model_module_version": "1.5.0",
      "_model_name": "HBoxModel",
      "_view_count": null,
      "_view_module": "@jupyter-widgets/controls",
      "_view_module_version": "1.5.0",
      "_view_name": "HBoxView",
      "box_style": "",
      "children": [
       "IPY_MODEL_0e6db9910afa4482b76b996b4a027c95",
       "IPY_MODEL_99a04a4402cb4044bdec07e6d6555f87",
       "IPY_MODEL_42d58222fde142e6ab1ea56f608cd13e"
      ],
      "layout": "IPY_MODEL_901476a784b54d8aad573d9559bed4e8"
     }
    },
    "e606ad3b922c4ac98d9780546b3ea71d": {
     "model_module": "@jupyter-widgets/base",
     "model_module_version": "1.2.0",
     "model_name": "LayoutModel",
     "state": {
      "_model_module": "@jupyter-widgets/base",
      "_model_module_version": "1.2.0",
      "_model_name": "LayoutModel",
      "_view_count": null,
      "_view_module": "@jupyter-widgets/base",
      "_view_module_version": "1.2.0",
      "_view_name": "LayoutView",
      "align_content": null,
      "align_items": null,
      "align_self": null,
      "border": null,
      "bottom": null,
      "display": null,
      "flex": null,
      "flex_flow": null,
      "grid_area": null,
      "grid_auto_columns": null,
      "grid_auto_flow": null,
      "grid_auto_rows": null,
      "grid_column": null,
      "grid_gap": null,
      "grid_row": null,
      "grid_template_areas": null,
      "grid_template_columns": null,
      "grid_template_rows": null,
      "height": null,
      "justify_content": null,
      "justify_items": null,
      "left": null,
      "margin": null,
      "max_height": null,
      "max_width": null,
      "min_height": null,
      "min_width": null,
      "object_fit": null,
      "object_position": null,
      "order": null,
      "overflow": null,
      "overflow_x": null,
      "overflow_y": null,
      "padding": null,
      "right": null,
      "top": null,
      "visibility": null,
      "width": null
     }
    },
    "e6eb67ecf6b541e6aa67f898b093d800": {
     "model_module": "@jupyter-widgets/controls",
     "model_module_version": "1.5.0",
     "model_name": "ProgressStyleModel",
     "state": {
      "_model_module": "@jupyter-widgets/controls",
      "_model_module_version": "1.5.0",
      "_model_name": "ProgressStyleModel",
      "_view_count": null,
      "_view_module": "@jupyter-widgets/base",
      "_view_module_version": "1.2.0",
      "_view_name": "StyleView",
      "bar_color": null,
      "description_width": ""
     }
    },
    "e94cf9fe634f468d8632137e7139b2ef": {
     "model_module": "@jupyter-widgets/base",
     "model_module_version": "1.2.0",
     "model_name": "LayoutModel",
     "state": {
      "_model_module": "@jupyter-widgets/base",
      "_model_module_version": "1.2.0",
      "_model_name": "LayoutModel",
      "_view_count": null,
      "_view_module": "@jupyter-widgets/base",
      "_view_module_version": "1.2.0",
      "_view_name": "LayoutView",
      "align_content": null,
      "align_items": null,
      "align_self": null,
      "border": null,
      "bottom": null,
      "display": null,
      "flex": null,
      "flex_flow": null,
      "grid_area": null,
      "grid_auto_columns": null,
      "grid_auto_flow": null,
      "grid_auto_rows": null,
      "grid_column": null,
      "grid_gap": null,
      "grid_row": null,
      "grid_template_areas": null,
      "grid_template_columns": null,
      "grid_template_rows": null,
      "height": null,
      "justify_content": null,
      "justify_items": null,
      "left": null,
      "margin": null,
      "max_height": null,
      "max_width": null,
      "min_height": null,
      "min_width": null,
      "object_fit": null,
      "object_position": null,
      "order": null,
      "overflow": null,
      "overflow_x": null,
      "overflow_y": null,
      "padding": null,
      "right": null,
      "top": null,
      "visibility": null,
      "width": null
     }
    },
    "f5999cf1587c4c8988dfc3757d79f9db": {
     "model_module": "@jupyter-widgets/base",
     "model_module_version": "1.2.0",
     "model_name": "LayoutModel",
     "state": {
      "_model_module": "@jupyter-widgets/base",
      "_model_module_version": "1.2.0",
      "_model_name": "LayoutModel",
      "_view_count": null,
      "_view_module": "@jupyter-widgets/base",
      "_view_module_version": "1.2.0",
      "_view_name": "LayoutView",
      "align_content": null,
      "align_items": null,
      "align_self": null,
      "border": null,
      "bottom": null,
      "display": null,
      "flex": null,
      "flex_flow": null,
      "grid_area": null,
      "grid_auto_columns": null,
      "grid_auto_flow": null,
      "grid_auto_rows": null,
      "grid_column": null,
      "grid_gap": null,
      "grid_row": null,
      "grid_template_areas": null,
      "grid_template_columns": null,
      "grid_template_rows": null,
      "height": null,
      "justify_content": null,
      "justify_items": null,
      "left": null,
      "margin": null,
      "max_height": null,
      "max_width": null,
      "min_height": null,
      "min_width": null,
      "object_fit": null,
      "object_position": null,
      "order": null,
      "overflow": null,
      "overflow_x": null,
      "overflow_y": null,
      "padding": null,
      "right": null,
      "top": null,
      "visibility": null,
      "width": null
     }
    },
    "f5da6509d0d14c7f98eda3961cbccfe5": {
     "model_module": "@jupyter-widgets/base",
     "model_module_version": "1.2.0",
     "model_name": "LayoutModel",
     "state": {
      "_model_module": "@jupyter-widgets/base",
      "_model_module_version": "1.2.0",
      "_model_name": "LayoutModel",
      "_view_count": null,
      "_view_module": "@jupyter-widgets/base",
      "_view_module_version": "1.2.0",
      "_view_name": "LayoutView",
      "align_content": null,
      "align_items": null,
      "align_self": null,
      "border": null,
      "bottom": null,
      "display": null,
      "flex": null,
      "flex_flow": null,
      "grid_area": null,
      "grid_auto_columns": null,
      "grid_auto_flow": null,
      "grid_auto_rows": null,
      "grid_column": null,
      "grid_gap": null,
      "grid_row": null,
      "grid_template_areas": null,
      "grid_template_columns": null,
      "grid_template_rows": null,
      "height": null,
      "justify_content": null,
      "justify_items": null,
      "left": null,
      "margin": null,
      "max_height": null,
      "max_width": null,
      "min_height": null,
      "min_width": null,
      "object_fit": null,
      "object_position": null,
      "order": null,
      "overflow": null,
      "overflow_x": null,
      "overflow_y": null,
      "padding": null,
      "right": null,
      "top": null,
      "visibility": null,
      "width": null
     }
    },
    "fa399574b54a4c68a187ce6278b9e298": {
     "model_module": "@jupyter-widgets/controls",
     "model_module_version": "1.5.0",
     "model_name": "DescriptionStyleModel",
     "state": {
      "_model_module": "@jupyter-widgets/controls",
      "_model_module_version": "1.5.0",
      "_model_name": "DescriptionStyleModel",
      "_view_count": null,
      "_view_module": "@jupyter-widgets/base",
      "_view_module_version": "1.2.0",
      "_view_name": "StyleView",
      "description_width": ""
     }
    }
   }
  }
 },
 "nbformat": 4,
 "nbformat_minor": 4
}
